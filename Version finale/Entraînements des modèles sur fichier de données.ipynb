{
 "cells": [
  {
   "cell_type": "code",
   "execution_count": 1,
   "id": "8fe5c597",
   "metadata": {},
   "outputs": [
    {
     "name": "stdout",
     "output_type": "stream",
     "text": [
      "2.6.0\n"
     ]
    }
   ],
   "source": [
    "import tensorflow as tf\n",
    "from tensorflow import keras\n",
    "from tensorflow.keras import layers\n",
    "from tensorflow.keras import Sequential\n",
    "from keras.layers import Dense\n",
    "import numpy as np\n",
    "import pandas as pd\n",
    "import matplotlib.pyplot as plt\n",
    "import random\n",
    "import pyautogui"
   ]
  },
  {
   "cell_type": "code",
   "execution_count": 2,
   "id": "00d356fb",
   "metadata": {
    "scrolled": true
   },
   "outputs": [],
   "source": [
    "dft= pd.read_csv('Corécupjupy.csv', sep=';')\n",
    "del dft[dft.columns[0]]\n",
    "del dft[dft.columns[147]]\n",
    "dft=pd.DataFrame.to_numpy(dft)\n",
    "dft=np.nan_to_num(dft)\n",
    "dft=dft.astype(int)\n",
    "x, y = dft[:, [0, 1]], dft[:, [2,3]]"
   ]
  },
  {
   "cell_type": "code",
   "execution_count": 3,
   "id": "1660b8a8",
   "metadata": {},
   "outputs": [],
   "source": [
    "y=np.nan_to_num(y, 1)\n",
    "x=np.nan_to_num(x, 1)"
   ]
  },
  {
   "cell_type": "code",
   "execution_count": 4,
   "id": "b77fc3ae",
   "metadata": {},
   "outputs": [
    {
     "name": "stdout",
     "output_type": "stream",
     "text": [
      "475\n",
      "475\n",
      "60\n"
     ]
    }
   ],
   "source": [
    "c1=2\n",
    "c2=3\n",
    "ytrain = dft[:, [c1,c2]]\n",
    "ytrain, yval, ytest=np.split((ytrain), [int(0.8*len(ytrain)), int(0.9*len(ytrain))])\n",
    "ytest= dft[534:594][:, 10:14]\n",
    "yval=dft[0:475][:, 10:14]\n",
    "\n",
    "print(len(yval))\n",
    "print(len(ytrain))\n",
    "print(len(ytest))"
   ]
  },
  {
   "cell_type": "code",
   "execution_count": 5,
   "id": "851d8d06",
   "metadata": {},
   "outputs": [
    {
     "name": "stdout",
     "output_type": "stream",
     "text": [
      "475\n",
      "59\n",
      "60\n"
     ]
    }
   ],
   "source": [
    "train, val, test=np.split((x), [int(0.8*len(x)), int(0.9*len(x))])\n",
    "print(len(train))\n",
    "print(len(val))\n",
    "print(len(test))"
   ]
  },
  {
   "cell_type": "code",
   "execution_count": 6,
   "id": "26b04a3e",
   "metadata": {},
   "outputs": [],
   "source": [
    "test=dft[534:594][:, 0:10]\n",
    "val=dft[475:534][:, 0:2]\n",
    "yval=dft[475:534][:, 2:4]"
   ]
  },
  {
   "cell_type": "code",
   "execution_count": null,
   "id": "666700cc",
   "metadata": {},
   "outputs": [],
   "source": []
  },
  {
   "cell_type": "code",
   "execution_count": 7,
   "id": "c6079805",
   "metadata": {},
   "outputs": [],
   "source": [
    "change=2\n",
    "predictionstot=np.zeros((475,2))\n",
    "def normalisation(donnes):\n",
    "    return (donnes - np.min(1)) / (np.max(1920) - np.min(1))\n",
    "def denormalisation(donnes):\n",
    "    return(donnes * (np.max(1920) - np.min(1)) + (np.min(1)))\n",
    "train=normalisation(train)\n",
    "ytrain=normalisation(ytrain)\n",
    "val=normalisation(val)\n",
    "yval=normalisation(yval)\n",
    "neuron1=10\n",
    "neuron2=10\n",
    "neuron3=10\n",
    "neuron4=10\n",
    "activationfun='relu'\n",
    "activationfin='sigmoid'\n",
    "ep=50\n",
    "bs=2\n",
    "lost='BinaryCrossentropy'\n",
    "meetrics='Accuracy'\n",
    "lnrate=0.0001"
   ]
  },
  {
   "cell_type": "code",
   "execution_count": 8,
   "id": "77464b8d",
   "metadata": {},
   "outputs": [],
   "source": [
    "\n",
    "input1 = tf.keras.Input(shape=(2,))\n",
    "l1 = tf.keras.layers.Dense(neuron1, activation=activationfun)(input1)\n",
    "l2=tf.keras.layers.Dense(neuron2, activation=activationfun)(l1)\n",
    "l3=tf.keras.layers.Dense(neuron3, activation=activationfun)(l2)\n",
    "l4=tf.keras.layers.Dense(neuron4, activation=activationfun)(l3)\n",
    "out1 = tf.keras.layers.Dense(2, activation=activationfin)(l4)\n",
    "model1 = tf.keras.Model(inputs=input1, outputs=out1)\n",
    "opt = keras.optimizers.Adam(learning_rate=lnrate, clipnorm=1.0)\n",
    "model1.compile( loss=lost, optimizer=opt, metrics=[meetrics])\n",
    "history1=model1.fit(train, ytrain, validation_data=(val, yval), epochs=ep, batch_size=bs, verbose=0)\n",
    "  \n",
    "\n",
    "val=dft[475:534][:, 0:4]\n",
    "yval=dft[475:534][:, 4:6]\n",
    "\n",
    "predictions1=model1.predict(train)\n",
    "train=np.append(train, predictions1, axis=1)\n",
    "predictionstot=np.append(predictionstot, predictions1, axis=1)\n",
    "c1+=2\n",
    "c2+=2\n",
    "ytrain = dft[0:475][:, (c1,c2)]\n",
    "ytrain=normalisation(ytrain)"
   ]
  },
  {
   "cell_type": "code",
   "execution_count": 9,
   "id": "b67ffc71",
   "metadata": {},
   "outputs": [
    {
     "data": {
      "text/plain": [
       "(475, 2)"
      ]
     },
     "execution_count": 9,
     "metadata": {},
     "output_type": "execute_result"
    }
   ],
   "source": [
    "input1 = tf.keras.Input(shape=(4,))\n",
    "l1 = tf.keras.layers.Dense(neuron1, activation=activationfun)(input1)\n",
    "l2=tf.keras.layers.Dense(neuron2, activation=activationfun)(l1)\n",
    "l3=tf.keras.layers.Dense(neuron3, activation=activationfun)(l2)\n",
    "l4=tf.keras.layers.Dense(neuron4, activation=activationfun)(l3)\n",
    "out1 = tf.keras.layers.Dense(2, activation=activationfin)(l4)\n",
    "model2 = tf.keras.Model(inputs=input1, outputs=out1)\n",
    "opt = keras.optimizers.Adam(learning_rate=lnrate, clipnorm=1.0)\n",
    "model2.compile( loss=lost, optimizer=opt, metrics=[meetrics])\n",
    "history2=model2.fit(train, ytrain, validation_data=(val, yval), epochs=ep, batch_size=bs, verbose=0)\n",
    "\n",
    "val=dft[475:534][:, 0:6]\n",
    "yval=dft[475:534][:, 6:8]\n",
    "val=normalisation(val)\n",
    "yval=normalisation(yval)\n",
    "predictions2=model2.predict(train)\n",
    "train=np.append(train, predictions2, axis=1)\n",
    "predictionstot=np.append(predictionstot, predictions2, axis=1)\n",
    "c1+=2\n",
    "c2+=2\n",
    "ytrain = dft[0:475][:, (c1,c2)]\n",
    "ytrain=normalisation(ytrain)\n",
    "ytrain.shape"
   ]
  },
  {
   "cell_type": "code",
   "execution_count": 10,
   "id": "449f17ee",
   "metadata": {},
   "outputs": [],
   "source": [
    "input1 = tf.keras.Input(shape=(6,))\n",
    "l1 = tf.keras.layers.Dense(neuron1, activation=activationfun)(input1)\n",
    "l2=tf.keras.layers.Dense(neuron2, activation=activationfun)(l1)\n",
    "l3=tf.keras.layers.Dense(neuron3, activation=activationfun)(l2)\n",
    "l4=tf.keras.layers.Dense(neuron4, activation=activationfun)(l3)\n",
    "out1 = tf.keras.layers.Dense(2, activation=activationfin)(l4)\n",
    "model3 = tf.keras.Model(inputs=input1, outputs=out1)\n",
    "opt = keras.optimizers.Adam(learning_rate=lnrate, clipnorm=1.0)\n",
    "model3.compile( loss=lost, optimizer=opt, metrics=[meetrics])\n",
    "history3=model3.fit(train, ytrain, validation_data=(val, yval), epochs=ep, batch_size=bs, verbose=0)\n",
    "\n",
    "val=dft[475:534][:, 0:8]\n",
    "yval=dft[475:534][:, 8:10]\n",
    "val=normalisation(val)\n",
    "yval=normalisation(yval)\n",
    "predictions3=model3.predict(train)\n",
    "train=np.append(train, predictions3, axis=1)\n",
    "predictionstot=np.append(predictionstot, predictions3, axis=1)\n",
    "c1+=2\n",
    "c2+=2\n",
    "ytrain = dft[0:475][:, (c1,c2)]\n",
    "ytrain=normalisation(ytrain)"
   ]
  },
  {
   "cell_type": "code",
   "execution_count": 11,
   "id": "b59fdb7b",
   "metadata": {},
   "outputs": [
    {
     "data": {
      "text/plain": [
       "(475, 4)"
      ]
     },
     "execution_count": 11,
     "metadata": {},
     "output_type": "execute_result"
    }
   ],
   "source": [
    "input1 = tf.keras.Input(shape=(8,))\n",
    "l1 = tf.keras.layers.Dense(neuron1, activation=activationfun)(input1)\n",
    "l2=tf.keras.layers.Dense(neuron2, activation=activationfun)(l1)\n",
    "l3=tf.keras.layers.Dense(neuron3, activation=activationfun)(l2)\n",
    "l4=tf.keras.layers.Dense(neuron4, activation=activationfun)(l3)\n",
    "out1 = tf.keras.layers.Dense(2, activation=activationfin)(l4)\n",
    "model4 = tf.keras.Model(inputs=input1, outputs=out1)\n",
    "opt = keras.optimizers.Adam(learning_rate=lnrate, clipnorm=1.0)\n",
    "model4.compile( loss=lost, optimizer=opt, metrics=[meetrics])\n",
    "history4=model4.fit(train, ytrain, validation_data=(val, yval), epochs=ep, batch_size=bs, verbose=0)\n",
    "\n",
    "val=dft[475:534][:, 0:10]\n",
    "yval=dft[475:534][:, 10:14]\n",
    "val=normalisation(val)\n",
    "yval=normalisation(yval)\n",
    "predictions4=model4.predict(train)\n",
    "train=np.append(train, predictions4, axis=1)\n",
    "predictionstot=np.append(predictionstot, predictions4, axis=1)\n",
    "c1+=2\n",
    "c2+=5\n",
    "ytrain = dft[0:475][:, c1:c2]\n",
    "ytrain=normalisation(ytrain)\n",
    "ytrain.shape"
   ]
  },
  {
   "cell_type": "code",
   "execution_count": 12,
   "id": "f9c322dd",
   "metadata": {},
   "outputs": [
    {
     "name": "stdout",
     "output_type": "stream",
     "text": [
      "8/8 [==============================] - 0s 1ms/step - loss: 337928.6250 - Accuracy: 0.0000e+00\n"
     ]
    }
   ],
   "source": [
    "input1 = tf.keras.Input(shape=(10,))\n",
    "l1 = tf.keras.layers.Dense(neuron1, activation=activationfun)(input1)\n",
    "l2=tf.keras.layers.Dense(neuron4, activation=activationfun)(l1)\n",
    "out1 = tf.keras.layers.Dense(4, activation=activationfin)(l2)\n",
    "model5 = tf.keras.Model(inputs=input1, outputs=out1)\n",
    "opt = keras.optimizers.Adam(learning_rate=lnrate)\n",
    "model5.compile( loss=lost, optimizer=opt, metrics=[meetrics])\n",
    "history5=model5.fit(train, ytrain, validation_data=(val, yval), epochs=ep, batch_size=bs, verbose=0)\n",
    "results5 = model5.evaluate(test, ytest, batch_size=8)\n",
    "\n",
    "predictions5=model5.predict(train)\n",
    "predictionstot=np.append(predictionstot, predictions5, axis=1)"
   ]
  },
  {
   "cell_type": "code",
   "execution_count": 13,
   "id": "69429983",
   "metadata": {},
   "outputs": [],
   "source": [
    "val=dft[0:475][:, 0:10]\n",
    "yval=dft[0:475][:, 10:14]\n"
   ]
  },
  {
   "cell_type": "code",
   "execution_count": 14,
   "id": "1aa5819f",
   "metadata": {
    "scrolled": true
   },
   "outputs": [],
   "source": [
    "testtot=dft[0:475][:, 0:4]\n",
    "predictionstot=np.delete(predictionstot, (0,1), axis=1)\n",
    "\n"
   ]
  },
  {
   "cell_type": "code",
   "execution_count": 15,
   "id": "21d67082",
   "metadata": {},
   "outputs": [],
   "source": [
    "np.set_printoptions(threshold=5000000)"
   ]
  },
  {
   "cell_type": "code",
   "execution_count": 16,
   "id": "00901ad0",
   "metadata": {},
   "outputs": [
    {
     "name": "stdout",
     "output_type": "stream",
     "text": [
      "INFO:tensorflow:Assets written to: model1\\assets\n",
      "INFO:tensorflow:Assets written to: model2\\assets\n",
      "INFO:tensorflow:Assets written to: model3\\assets\n",
      "INFO:tensorflow:Assets written to: model4\\assets\n",
      "INFO:tensorflow:Assets written to: model5\\assets\n"
     ]
    }
   ],
   "source": [
    "model1.save(\"model1\", include_optimizer=True)\n",
    "model2.save('model2', include_optimizer=True)\n",
    "model3.save('model3', include_optimizer=True)\n",
    "model4.save('model4', include_optimizer=True)\n",
    "model5.save('model5', include_optimizer=True)"
   ]
  },
  {
   "cell_type": "code",
   "execution_count": 17,
   "id": "c4ae4334",
   "metadata": {},
   "outputs": [
    {
     "name": "stdout",
     "output_type": "stream",
     "text": [
      "Précision= [337928.625, 0.0]\n"
     ]
    }
   ],
   "source": [
    "print(\"Précision=\", results5)"
   ]
  },
  {
   "cell_type": "code",
   "execution_count": 18,
   "id": "ddc646d2",
   "metadata": {},
   "outputs": [
    {
     "data": {
      "image/png": "[encoded data removed]",
      "text/plain": [
       "<Figure size 432x288 with 1 Axes>"
      ]
     },
     "metadata": {
      "needs_background": "light"
     },
     "output_type": "display_data"
    }
   ],
   "source": [
    "plt.plot(history5.history['loss'])\n",
    "plt.plot(history5.history['val_loss'])\n",
    "plt.title('Perte du modèle')\n",
    "plt.ylabel('Perte')\n",
    "plt.xlabel('Epoch')\n",
    "plt.legend(['Train', 'Val'], loc='upper left')\n",
    "plt.show()\n"
   ]
  },
  {
   "cell_type": "code",
   "execution_count": 19,
   "id": "4b86288b",
   "metadata": {},
   "outputs": [
    {
     "data": {
      "image/png": "[encoded data removed]",
      "text/plain": [
       "<Figure size 432x288 with 1 Axes>"
      ]
     },
     "metadata": {
      "needs_background": "light"
     },
     "output_type": "display_data"
    }
   ],
   "source": [
    "plt.plot(history5.history['Accuracy'])\n",
    "plt.plot(history5.history['val_Accuracy'])\n",
    "plt.title('Prédcision modèle')\n",
    "plt.ylabel('Précision')\n",
    "plt.xlabel('epoch')\n",
    "plt.legend(['Train', 'Val'], loc='upper left')\n",
    "plt.show()"
   ]
  },
  {
   "cell_type": "code",
   "execution_count": null,
   "id": "7484f9ef",
   "metadata": {},
   "outputs": [],
   "source": []
  },
  {
   "cell_type": "code",
   "execution_count": null,
   "id": "ee78b9f7",
   "metadata": {},
   "outputs": [],
   "source": [
    "\n"
   ]
  },
  {
   "cell_type": "code",
   "execution_count": null,
   "id": "b7a60665",
   "metadata": {},
   "outputs": [],
   "source": []
  },
  {
   "cell_type": "code",
   "execution_count": null,
   "id": "383d7448",
   "metadata": {},
   "outputs": [],
   "source": []
  },
  {
   "cell_type": "code",
   "execution_count": null,
   "id": "ea93b5d5",
   "metadata": {},
   "outputs": [],
   "source": []
  }
 ],
 "metadata": {
  "kernelspec": {
   "display_name": "Python 3 (ipykernel)",
   "language": "python",
   "name": "python3"
  },
  "language_info": {
   "codemirror_mode": {
    "name": "ipython",
    "version": 3
   },
   "file_extension": ".py",
   "mimetype": "text/x-python",
   "name": "python",
   "nbconvert_exporter": "python",
   "pygments_lexer": "ipython3",
   "version": "3.9.7"
  }
 },
 "nbformat": 4,
 "nbformat_minor": 5
}
