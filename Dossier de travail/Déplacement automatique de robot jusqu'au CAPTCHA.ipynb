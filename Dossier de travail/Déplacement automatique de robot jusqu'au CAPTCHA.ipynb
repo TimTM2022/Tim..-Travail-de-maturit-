{
 "cells": [
  {
   "cell_type": "code",
   "execution_count": null,
   "id": "5f8307b2",
   "metadata": {},
   "outputs": [],
   "source": [
    "import random\n",
    "import pyautogui\n",
    "import time\n",
    "import webbrowser"
   ]
  },
  {
   "cell_type": "code",
   "execution_count": 34,
   "id": "fce6ddc5",
   "metadata": {},
   "outputs": [],
   "source": [
    "for i in range(10):\n",
    "    webbrowser.open('https://www.google.com/recaptcha/api2/demo')\n",
    "    départx=random.randint(1, 1920)\n",
    "    départy=random.randint(1, 1080)\n",
    "    pyautogui.moveTo(départx, départy)\n",
    "    vit = random.uniform(0.3, 1)\n",
    "    cox = random.randint(48, 70)\n",
    "    coy = random.randint(435,458)\n",
    "    pyautogui.moveTo(cox,coy,vit)\n",
    "    time.sleep(0.2)\n",
    "    pyautogui.click()\n",
    "    time.sleep(1)"
   ]
  },
  {
   "cell_type": "code",
   "execution_count": 33,
   "id": "c5a8ee55",
   "metadata": {},
   "outputs": [
    {
     "ename": "SyntaxError",
     "evalue": "invalid syntax (2347504532.py, line 3)",
     "output_type": "error",
     "traceback": [
      "\u001b[1;36m  Input \u001b[1;32mIn [33]\u001b[1;36m\u001b[0m\n\u001b[1;33m    X:  0 Y: 1143 RGB: ( 38,  38,  38)\u001b[0m\n\u001b[1;37m          ^\u001b[0m\n\u001b[1;31mSyntaxError\u001b[0m\u001b[1;31m:\u001b[0m invalid syntax\n"
     ]
    }
   ],
   "source": []
  },
  {
   "cell_type": "code",
   "execution_count": null,
   "id": "149862ef",
   "metadata": {},
   "outputs": [],
   "source": []
  }
 ],
 "metadata": {
  "kernelspec": {
   "display_name": "Python 3 (ipykernel)",
   "language": "python",
   "name": "python3"
  },
  "language_info": {
   "codemirror_mode": {
    "name": "ipython",
    "version": 3
   },
   "file_extension": ".py",
   "mimetype": "text/x-python",
   "name": "python",
   "nbconvert_exporter": "python",
   "pygments_lexer": "ipython3",
   "version": "3.9.7"
  }
 },
 "nbformat": 4,
 "nbformat_minor": 5
}
