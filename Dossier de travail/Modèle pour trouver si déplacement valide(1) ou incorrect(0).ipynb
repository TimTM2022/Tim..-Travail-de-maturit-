{
 "cells": [
  {
   "cell_type": "code",
   "execution_count": 1,
   "id": "8fe5c597",
   "metadata": {},
   "outputs": [
    {
     "name": "stdout",
     "output_type": "stream",
     "text": [
      "2.6.0\n"
     ]
    }
   ],
   "source": [
    "import tensorflow as tf\n",
    "from tensorflow import keras\n",
    "from tensorflow.keras import layers\n",
    "import numpy as np\n",
    "import pandas as pd\n",
    "from sklearn.model_selection import train_test_split\n",
    "print(tf.__version__)\n",
    "import matplotlib.pyplot as plt\n",
    "import tensorboard\n",
    "tensorboard.__version__\n",
    "from datetime import datetime\n",
    "from packaging import version"
   ]
  },
  {
   "cell_type": "code",
   "execution_count": 2,
   "id": "00d356fb",
   "metadata": {
    "scrolled": true
   },
   "outputs": [],
   "source": [
    "dft= pd.read_csv('Corécupjupy.csv', sep=';')\n",
    "del dft[dft.columns[0]]\n",
    "x, y = dft.values[:, :-1], dft.values[:, -1]"
   ]
  },
  {
   "cell_type": "code",
   "execution_count": 3,
   "id": "b77fc3ae",
   "metadata": {},
   "outputs": [
    {
     "name": "stdout",
     "output_type": "stream",
     "text": [
      "59\n",
      "475\n",
      "60\n"
     ]
    }
   ],
   "source": [
    "x=np.nan_to_num(x)\n",
    "ytrain, yval, ytest=np.split((y), [int(0.8*len(y)), int(0.9*len(y))])\n",
    "print(len(yval))\n",
    "print(len(ytrain))\n",
    "print(len(ytest))"
   ]
  },
  {
   "cell_type": "code",
   "execution_count": null,
   "id": "1a4b9a69",
   "metadata": {
    "scrolled": true
   },
   "outputs": [],
   "source": []
  },
  {
   "cell_type": "code",
   "execution_count": 4,
   "id": "ace23ee6",
   "metadata": {},
   "outputs": [],
   "source": [
    "dft=dft.fillna(value=0) \n",
    "dft =dft.drop(columns=['Result'])"
   ]
  },
  {
   "cell_type": "code",
   "execution_count": 5,
   "id": "851d8d06",
   "metadata": {},
   "outputs": [],
   "source": [
    "train, val, test=np.split(dft.sample(frac=1), [int(0.8*len(dft)), int(0.9*len(dft))])"
   ]
  },
  {
   "cell_type": "code",
   "execution_count": null,
   "id": "26b04a3e",
   "metadata": {},
   "outputs": [],
   "source": []
  },
  {
   "cell_type": "code",
   "execution_count": 6,
   "id": "666700cc",
   "metadata": {},
   "outputs": [
    {
     "name": "stdout",
     "output_type": "stream",
     "text": [
      "475\n",
      "59\n",
      "60\n"
     ]
    }
   ],
   "source": [
    "print(len(train))\n",
    "print(len(val))\n",
    "print(len(test))\n"
   ]
  },
  {
   "cell_type": "code",
   "execution_count": null,
   "id": "77464b8d",
   "metadata": {},
   "outputs": [],
   "source": []
  },
  {
   "cell_type": "code",
   "execution_count": 7,
   "id": "609cd5c7",
   "metadata": {},
   "outputs": [],
   "source": [
    "\n",
    "normaliser = layers.Normalization()"
   ]
  },
  {
   "cell_type": "code",
   "execution_count": 8,
   "id": "1eb384fd",
   "metadata": {},
   "outputs": [],
   "source": [
    "normaliser.adapt(train)"
   ]
  },
  {
   "cell_type": "code",
   "execution_count": 14,
   "id": "b7a60665",
   "metadata": {},
   "outputs": [
    {
     "name": "stdout",
     "output_type": "stream",
     "text": [
      "[<tf.Variable 'dense_7/kernel:0' shape=(10, 1) dtype=float32, numpy=\n",
      "array([[ 0.51605195],\n",
      "       [ 0.26185805],\n",
      "       [ 0.5005701 ],\n",
      "       [ 0.44822246],\n",
      "       [-0.7065485 ],\n",
      "       [ 0.08901262],\n",
      "       [-0.43553498],\n",
      "       [ 0.21482909],\n",
      "       [ 0.6101909 ],\n",
      "       [ 0.51808995]], dtype=float32)>, <tf.Variable 'dense_7/bias:0' shape=(1,) dtype=float32, numpy=array([0.], dtype=float32)>]\n"
     ]
    }
   ],
   "source": [
    "\n",
    "model=tf.keras.Sequential(\n",
    "    [\n",
    "    normaliser,\n",
    "    layers.Dense(10, input_shape=(3, 5, 0)),\n",
    "    layers.Dense(10, activation='sigmoid'),\n",
    "    layers.Dense(10, activation='sigmoid'),\n",
    "    layers.Dense(1),\n",
    "])\n",
    "\n",
    "print(model.layers[4].weights)"
   ]
  },
  {
   "cell_type": "code",
   "execution_count": 15,
   "id": "ea93b5d5",
   "metadata": {},
   "outputs": [],
   "source": [
    "model.compile(optimizer='adam',\n",
    "              loss=tf.keras.losses.BinaryCrossentropy(from_logits=True),\n",
    "              metrics=[\"accuracy\"])"
   ]
  },
  {
   "cell_type": "code",
   "execution_count": 16,
   "id": "32e89359",
   "metadata": {},
   "outputs": [
    {
     "name": "stdout",
     "output_type": "stream",
     "text": [
      "Epoch 1/50\n",
      "238/238 [==============================] - 1s 2ms/step - loss: 0.7109 - accuracy: 0.4800 - val_loss: 0.8346 - val_accuracy: 0.9492\n",
      "Epoch 2/50\n",
      "238/238 [==============================] - 0s 865us/step - loss: 0.6910 - accuracy: 0.4695 - val_loss: 0.8575 - val_accuracy: 1.0000\n",
      "Epoch 3/50\n",
      "238/238 [==============================] - 0s 848us/step - loss: 0.6894 - accuracy: 0.4547 - val_loss: 0.7796 - val_accuracy: 1.0000\n",
      "Epoch 4/50\n",
      "238/238 [==============================] - 0s 848us/step - loss: 0.6894 - accuracy: 0.4589 - val_loss: 0.7841 - val_accuracy: 1.0000\n",
      "Epoch 5/50\n",
      "238/238 [==============================] - 0s 869us/step - loss: 0.6874 - accuracy: 0.4611 - val_loss: 0.7946 - val_accuracy: 1.0000\n",
      "Epoch 6/50\n",
      "238/238 [==============================] - 0s 874us/step - loss: 0.6870 - accuracy: 0.4695 - val_loss: 0.8117 - val_accuracy: 0.9831\n",
      "Epoch 7/50\n",
      "238/238 [==============================] - 0s 849us/step - loss: 0.6871 - accuracy: 0.4821 - val_loss: 0.8374 - val_accuracy: 0.9661\n",
      "Epoch 8/50\n",
      "238/238 [==============================] - 0s 861us/step - loss: 0.6863 - accuracy: 0.4821 - val_loss: 0.7696 - val_accuracy: 0.9831\n",
      "Epoch 9/50\n",
      "238/238 [==============================] - 0s 857us/step - loss: 0.6846 - accuracy: 0.4716 - val_loss: 0.7923 - val_accuracy: 0.9831\n",
      "Epoch 10/50\n",
      "238/238 [==============================] - 0s 857us/step - loss: 0.6836 - accuracy: 0.4863 - val_loss: 0.7753 - val_accuracy: 0.9831\n",
      "Epoch 11/50\n",
      "238/238 [==============================] - 0s 882us/step - loss: 0.6825 - accuracy: 0.4884 - val_loss: 0.8234 - val_accuracy: 0.9322\n",
      "Epoch 12/50\n",
      "238/238 [==============================] - 0s 857us/step - loss: 0.6821 - accuracy: 0.4926 - val_loss: 0.8297 - val_accuracy: 0.9153\n",
      "Epoch 13/50\n",
      "238/238 [==============================] - 0s 865us/step - loss: 0.6815 - accuracy: 0.4989 - val_loss: 0.8038 - val_accuracy: 0.9492\n",
      "Epoch 14/50\n",
      "238/238 [==============================] - 0s 899us/step - loss: 0.6793 - accuracy: 0.4947 - val_loss: 0.7584 - val_accuracy: 0.9661\n",
      "Epoch 15/50\n",
      "238/238 [==============================] - 0s 916us/step - loss: 0.6803 - accuracy: 0.4926 - val_loss: 0.7670 - val_accuracy: 0.9831\n",
      "Epoch 16/50\n",
      "238/238 [==============================] - 0s 903us/step - loss: 0.6791 - accuracy: 0.4884 - val_loss: 0.7568 - val_accuracy: 0.9831\n",
      "Epoch 17/50\n",
      "238/238 [==============================] - 0s 937us/step - loss: 0.6807 - accuracy: 0.4884 - val_loss: 0.8090 - val_accuracy: 0.9322\n",
      "Epoch 18/50\n",
      "238/238 [==============================] - 0s 933us/step - loss: 0.6768 - accuracy: 0.5011 - val_loss: 0.8369 - val_accuracy: 0.8814\n",
      "Epoch 19/50\n",
      "238/238 [==============================] - 0s 958us/step - loss: 0.6733 - accuracy: 0.5158 - val_loss: 0.8421 - val_accuracy: 0.7458\n",
      "Epoch 20/50\n",
      "238/238 [==============================] - 0s 861us/step - loss: 0.6768 - accuracy: 0.5137 - val_loss: 0.8091 - val_accuracy: 0.7966\n",
      "Epoch 21/50\n",
      "238/238 [==============================] - 0s 857us/step - loss: 0.6730 - accuracy: 0.5200 - val_loss: 0.7936 - val_accuracy: 0.8983\n",
      "Epoch 22/50\n",
      "238/238 [==============================] - 0s 865us/step - loss: 0.6715 - accuracy: 0.5263 - val_loss: 0.8505 - val_accuracy: 0.7458\n",
      "Epoch 23/50\n",
      "238/238 [==============================] - 0s 903us/step - loss: 0.6724 - accuracy: 0.5242 - val_loss: 0.7865 - val_accuracy: 0.8983\n",
      "Epoch 24/50\n",
      "238/238 [==============================] - 0s 874us/step - loss: 0.6666 - accuracy: 0.5495 - val_loss: 0.7671 - val_accuracy: 0.8983\n",
      "Epoch 25/50\n",
      "238/238 [==============================] - 0s 882us/step - loss: 0.6709 - accuracy: 0.5305 - val_loss: 0.8091 - val_accuracy: 0.8305\n",
      "Epoch 26/50\n",
      "238/238 [==============================] - 0s 878us/step - loss: 0.6695 - accuracy: 0.5368 - val_loss: 0.8106 - val_accuracy: 0.8136\n",
      "Epoch 27/50\n",
      "238/238 [==============================] - 0s 853us/step - loss: 0.6647 - accuracy: 0.5411 - val_loss: 0.8286 - val_accuracy: 0.7458\n",
      "Epoch 28/50\n",
      "238/238 [==============================] - 0s 853us/step - loss: 0.6642 - accuracy: 0.5389 - val_loss: 0.8153 - val_accuracy: 0.7797\n",
      "Epoch 29/50\n",
      "238/238 [==============================] - 0s 941us/step - loss: 0.6621 - accuracy: 0.5579 - val_loss: 0.8655 - val_accuracy: 0.6949\n",
      "Epoch 30/50\n",
      "238/238 [==============================] - 0s 853us/step - loss: 0.6619 - accuracy: 0.5558 - val_loss: 0.8001 - val_accuracy: 0.7966\n",
      "Epoch 31/50\n",
      "238/238 [==============================] - 0s 861us/step - loss: 0.6584 - accuracy: 0.5537 - val_loss: 0.8103 - val_accuracy: 0.7458\n",
      "Epoch 32/50\n",
      "238/238 [==============================] - 0s 857us/step - loss: 0.6614 - accuracy: 0.5495 - val_loss: 0.8253 - val_accuracy: 0.7288\n",
      "Epoch 33/50\n",
      "238/238 [==============================] - 0s 865us/step - loss: 0.6557 - accuracy: 0.5726 - val_loss: 0.8306 - val_accuracy: 0.7458\n",
      "Epoch 34/50\n",
      "238/238 [==============================] - 0s 857us/step - loss: 0.6550 - accuracy: 0.5642 - val_loss: 0.8497 - val_accuracy: 0.7119\n",
      "Epoch 35/50\n",
      "238/238 [==============================] - 0s 890us/step - loss: 0.6528 - accuracy: 0.5684 - val_loss: 0.8275 - val_accuracy: 0.7627\n",
      "Epoch 36/50\n",
      "238/238 [==============================] - 0s 865us/step - loss: 0.6498 - accuracy: 0.5684 - val_loss: 0.8246 - val_accuracy: 0.7458\n",
      "Epoch 37/50\n",
      "238/238 [==============================] - 0s 861us/step - loss: 0.6479 - accuracy: 0.5811 - val_loss: 0.9357 - val_accuracy: 0.6610\n",
      "Epoch 38/50\n",
      "238/238 [==============================] - 0s 861us/step - loss: 0.6474 - accuracy: 0.5747 - val_loss: 0.9323 - val_accuracy: 0.6780\n",
      "Epoch 39/50\n",
      "238/238 [==============================] - 0s 861us/step - loss: 0.6442 - accuracy: 0.5874 - val_loss: 0.8922 - val_accuracy: 0.7119\n",
      "Epoch 40/50\n",
      "238/238 [==============================] - 0s 857us/step - loss: 0.6446 - accuracy: 0.5958 - val_loss: 0.8692 - val_accuracy: 0.7119\n",
      "Epoch 41/50\n",
      "238/238 [==============================] - 0s 861us/step - loss: 0.6425 - accuracy: 0.5768 - val_loss: 0.9121 - val_accuracy: 0.7119\n",
      "Epoch 42/50\n",
      "238/238 [==============================] - 0s 874us/step - loss: 0.6402 - accuracy: 0.6042 - val_loss: 0.9711 - val_accuracy: 0.6610\n",
      "Epoch 43/50\n",
      "238/238 [==============================] - 0s 882us/step - loss: 0.6381 - accuracy: 0.5621 - val_loss: 1.0157 - val_accuracy: 0.6102\n",
      "Epoch 44/50\n",
      "238/238 [==============================] - 0s 853us/step - loss: 0.6342 - accuracy: 0.6042 - val_loss: 0.9697 - val_accuracy: 0.6441\n",
      "Epoch 45/50\n",
      "238/238 [==============================] - 0s 886us/step - loss: 0.6312 - accuracy: 0.5853 - val_loss: 1.0865 - val_accuracy: 0.5763\n",
      "Epoch 46/50\n",
      "238/238 [==============================] - 0s 853us/step - loss: 0.6387 - accuracy: 0.5979 - val_loss: 0.9793 - val_accuracy: 0.6441\n",
      "Epoch 47/50\n",
      "238/238 [==============================] - 0s 874us/step - loss: 0.6307 - accuracy: 0.6084 - val_loss: 0.9442 - val_accuracy: 0.6610\n",
      "Epoch 48/50\n",
      "238/238 [==============================] - 0s 933us/step - loss: 0.6302 - accuracy: 0.5937 - val_loss: 0.9206 - val_accuracy: 0.6610\n",
      "Epoch 49/50\n",
      "238/238 [==============================] - 0s 920us/step - loss: 0.6282 - accuracy: 0.5937 - val_loss: 0.9729 - val_accuracy: 0.6271\n",
      "Epoch 50/50\n",
      "238/238 [==============================] - 0s 869us/step - loss: 0.6302 - accuracy: 0.5811 - val_loss: 0.9715 - val_accuracy: 0.6271\n"
     ]
    }
   ],
   "source": [
    "history=model.fit(train, ytrain,  epochs=50,\n",
    "                  validation_data=(val,yval), batch_size=2)"
   ]
  },
  {
   "cell_type": "code",
   "execution_count": 17,
   "id": "c4e15898",
   "metadata": {},
   "outputs": [
    {
     "name": "stdout",
     "output_type": "stream",
     "text": [
      "2/2 [==============================] - 0s 2ms/step - loss: 1.0719 - accuracy: 0.5833\n",
      "Accuracy 0.5833333134651184\n"
     ]
    }
   ],
   "source": [
    "loss, accuracy = model.evaluate(test, ytest)\n",
    "print(\"Accuracy\", accuracy)"
   ]
  },
  {
   "cell_type": "code",
   "execution_count": 18,
   "id": "65a70302",
   "metadata": {},
   "outputs": [
    {
     "data": {
      "image/png": "[encoded data removed]",
      "text/plain": [
       "<Figure size 432x288 with 1 Axes>"
      ]
     },
     "metadata": {
      "needs_background": "light"
     },
     "output_type": "display_data"
    }
   ],
   "source": [
    "plt.plot(history.history['loss'])\n",
    "plt.plot(history.history['val_loss'])\n",
    "plt.title('Model loss')\n",
    "plt.ylabel('Loss')\n",
    "plt.xlabel('Epoch')\n",
    "plt.legend(['Train', 'Val'], loc='upper right')\n",
    "plt.show()"
   ]
  },
  {
   "cell_type": "code",
   "execution_count": null,
   "id": "9887e80e",
   "metadata": {},
   "outputs": [],
   "source": []
  },
  {
   "cell_type": "code",
   "execution_count": null,
   "id": "5366eb42",
   "metadata": {},
   "outputs": [],
   "source": []
  },
  {
   "cell_type": "code",
   "execution_count": null,
   "id": "90549ef0",
   "metadata": {},
   "outputs": [],
   "source": []
  },
  {
   "cell_type": "code",
   "execution_count": null,
   "id": "b7f2b553",
   "metadata": {},
   "outputs": [],
   "source": []
  },
  {
   "cell_type": "code",
   "execution_count": null,
   "id": "137d99ad",
   "metadata": {},
   "outputs": [],
   "source": []
  },
  {
   "cell_type": "code",
   "execution_count": null,
   "id": "5e79b858",
   "metadata": {},
   "outputs": [],
   "source": []
  },
  {
   "cell_type": "code",
   "execution_count": null,
   "id": "beadb0fb",
   "metadata": {},
   "outputs": [],
   "source": []
  },
  {
   "cell_type": "code",
   "execution_count": 268,
   "id": "e93db6fa",
   "metadata": {},
   "outputs": [
    {
     "data": {
      "image/png": "[encoded data removed]",
      "text/plain": [
       "<Figure size 432x288 with 1 Axes>"
      ]
     },
     "metadata": {
      "needs_background": "light"
     },
     "output_type": "display_data"
    }
   ],
   "source": []
  },
  {
   "cell_type": "code",
   "execution_count": 269,
   "id": "5b02bf05",
   "metadata": {},
   "outputs": [],
   "source": []
  },
  {
   "cell_type": "code",
   "execution_count": null,
   "id": "fb83193e",
   "metadata": {},
   "outputs": [],
   "source": []
  },
  {
   "cell_type": "code",
   "execution_count": null,
   "id": "6fac2436",
   "metadata": {},
   "outputs": [],
   "source": []
  },
  {
   "cell_type": "code",
   "execution_count": null,
   "id": "8115de2e",
   "metadata": {},
   "outputs": [],
   "source": []
  }
 ],
 "metadata": {
  "kernelspec": {
   "display_name": "Python 3 (ipykernel)",
   "language": "python",
   "name": "python3"
  },
  "language_info": {
   "codemirror_mode": {
    "name": "ipython",
    "version": 3
   },
   "file_extension": ".py",
   "mimetype": "text/x-python",
   "name": "python",
   "nbconvert_exporter": "python",
   "pygments_lexer": "ipython3",
   "version": "3.9.7"
  }
 },
 "nbformat": 4,
 "nbformat_minor": 5
}
