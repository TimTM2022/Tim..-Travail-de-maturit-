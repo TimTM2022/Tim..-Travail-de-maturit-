{
 "cells": [
  {
   "cell_type": "code",
   "execution_count": 221,
   "id": "5b3a1161",
   "metadata": {},
   "outputs": [],
   "source": [
    "import tensorflow as tf\n",
    "from tensorflow import keras\n",
    "from tensorflow.keras import layers\n",
    "from tensorflow.keras import Sequential\n",
    "from keras.layers import Dense\n",
    "import numpy as np\n",
    "import pandas as pd\n",
    "import matplotlib.pyplot as plt\n",
    "import pyautogui\n",
    "import random\n",
    "import webbrowser"
   ]
  },
  {
   "cell_type": "code",
   "execution_count": 222,
   "id": "2f3439eb",
   "metadata": {},
   "outputs": [
    {
     "name": "stdout",
     "output_type": "stream",
     "text": [
      "1403\n",
      "249\n"
     ]
    }
   ],
   "source": [
    "webbrowser.open('https://www.google.com/recaptcha/api2/demo')\n",
    "placex=random.randint(100, 1920)\n",
    "placey=random.randint(100, 1080)\n",
    "print(placex)\n",
    "print(placey)\n",
    "pyautogui.moveTo(placex, placey)\n",
    "a,b=pyautogui.position()\n",
    "col1=random.randint(47, 71)\n",
    "col2=random.randint(434, 459)\n",
    "if a<col1:\n",
    "    pyautogui.move(30, 0, 0.5)\n",
    "else :\n",
    "    pyautogui.move(-30, 0, 0.5)\n",
    "if b<col2:\n",
    "    pyautogui.move(0, 30, 0.5)\n",
    "else :\n",
    "    pyautogui.move(0, -30, 0.5)\n",
    "result=np.array([a,b])\n",
    "result=np.reshape(result, (2,1))\n",
    "result\n",
    "a,b=pyautogui.position()\n",
    "result2=np.array([a,b])\n",
    "result2=np.reshape(result2, (2,1))\n",
    "test1=np.append(result, result2, axis=1)\n",
    "ppredictionstot=np.zeros((2,2))\n"
   ]
  },
  {
   "cell_type": "code",
   "execution_count": 223,
   "id": "46b403eb",
   "metadata": {},
   "outputs": [],
   "source": [
    "def normalisation(donnes):\n",
    "    return (donnes - np.min(1)) / (np.max(1920) - np.min(1))\n",
    "def denormalisation(donnes):\n",
    "    return(donnes * (np.max(1928) - np.min(1)) + (np.min(1)))\n",
    "test1=normalisation(test1)"
   ]
  },
  {
   "cell_type": "code",
   "execution_count": 224,
   "id": "672a30e3",
   "metadata": {},
   "outputs": [
    {
     "data": {
      "text/plain": [
       "array([[0.73110995, 0.71547681, 0.66294193, 0.60432917],\n",
       "       [0.12923398, 0.14486712, 0.13136345, 0.13146982]])"
      ]
     },
     "execution_count": 224,
     "metadata": {},
     "output_type": "execute_result"
    }
   ],
   "source": [
    "model1 = keras.models.load_model('model1')\n",
    "ppredictions1=model1.predict(test1)\n",
    "test1=np.append(test1, ppredictions1, axis=1)\n",
    "ppredictionstot=np.append(ppredictionstot, ppredictions1, axis=1)\n",
    "ppredictionstot=np.delete(ppredictionstot, (0, 1), axis=1)\n",
    "test1"
   ]
  },
  {
   "cell_type": "code",
   "execution_count": null,
   "id": "a1101d0e",
   "metadata": {},
   "outputs": [],
   "source": []
  },
  {
   "cell_type": "code",
   "execution_count": null,
   "id": "4f4ec5c3",
   "metadata": {},
   "outputs": [],
   "source": []
  },
  {
   "cell_type": "code",
   "execution_count": 225,
   "id": "8acfbb67",
   "metadata": {},
   "outputs": [
    {
     "data": {
      "text/plain": [
       "array([[0.73110995, 0.71547681, 0.66294193, 0.60432917, 0.53857279,\n",
       "        0.52437925],\n",
       "       [0.12923398, 0.14486712, 0.13136345, 0.13146982, 0.14774451,\n",
       "        0.11527121]])"
      ]
     },
     "execution_count": 225,
     "metadata": {},
     "output_type": "execute_result"
    }
   ],
   "source": [
    "model2=keras.models.load_model('model2')\n",
    "ppredictions2=model2.predict(test1)\n",
    "test1=np.append(test1, ppredictions2, axis=1)\n",
    "ppredictionstot=np.append(ppredictionstot, ppredictions2, axis=1)\n",
    "test1"
   ]
  },
  {
   "cell_type": "code",
   "execution_count": 226,
   "id": "6666524d",
   "metadata": {},
   "outputs": [],
   "source": [
    "model3=keras.models.load_model('model3')\n",
    "ppredictions3=model3.predict(test1)\n",
    "test1=np.append(test1, ppredictions3, axis=1)\n",
    "ppredictionstot=np.append(ppredictionstot, ppredictions3, axis=1)"
   ]
  },
  {
   "cell_type": "code",
   "execution_count": 227,
   "id": "42acb30a",
   "metadata": {},
   "outputs": [],
   "source": [
    "model4=keras.models.load_model('model4')\n",
    "ppredictions4=model4.predict(test1)\n",
    "test1=np.append(test1, ppredictions4, axis=1)\n",
    "ppredictionstot=np.append(ppredictionstot, ppredictions4, axis=1)"
   ]
  },
  {
   "cell_type": "code",
   "execution_count": 228,
   "id": "3853cf6e",
   "metadata": {},
   "outputs": [],
   "source": [
    "model5=keras.models.load_model('model5')\n",
    "ppredictions5=model5.predict(test1)\n",
    "test1=np.append(test1, ppredictions5, axis=1)\n",
    "ppredictionstot=np.append(ppredictionstot, ppredictions5, axis=1)"
   ]
  },
  {
   "cell_type": "code",
   "execution_count": 229,
   "id": "4c3fbaf7",
   "metadata": {},
   "outputs": [
    {
     "name": "stdout",
     "output_type": "stream",
     "text": [
      "[[1278.48910427 1165.54230827 1038.82976294 1011.47882128  870.33951795\n",
      "   747.80149209  659.45317703  574.01571208  362.86554199  323.99317926\n",
      "   311.62037215  277.97359583]\n",
      " [ 254.137371    254.34233537  285.70366421  223.12762296  236.39305019\n",
      "   229.56662831  204.22283283  186.51124659  290.59903345  269.16931659\n",
      "   247.40800425  215.75051367]]\n"
     ]
    }
   ],
   "source": [
    "ppredictionstot=denormalisation(ppredictionstot)\n",
    "print(ppredictionstot)\n",
    "ppredictionstot=ppredictionstot.astype(int)\n",
    "col1=np.array([[col1],\n",
    "               [col2]])\n",
    "ppredictionstot=np.append(ppredictionstot, col1, axis=1 )"
   ]
  },
  {
   "cell_type": "code",
   "execution_count": 230,
   "id": "43c4412e",
   "metadata": {},
   "outputs": [
    {
     "name": "stdout",
     "output_type": "stream",
     "text": [
      "[1278  254]\n",
      "[1165  254]\n",
      "[1038  285]\n",
      "[1011  223]\n",
      "[870 236]\n",
      "[747 229]\n",
      "[659 204]\n",
      "[574 186]\n",
      "[362 290]\n",
      "[323 269]\n",
      "[311 247]\n",
      "[277 215]\n",
      "[ 71 434]\n"
     ]
    }
   ],
   "source": [
    "premier=ppredictionstot.shape\n",
    "premier=premier[1]\n",
    "number=ppredictionstot.size\n",
    "unnombre=0\n",
    "for i in range(premier):\n",
    "    bouge=np.take(ppredictionstot, unnombre, axis=1)\n",
    "    print(bouge)\n",
    "    unnombre+=1\n",
    "    a=np.take(bouge, 0)\n",
    "    b=np.take(bouge, 1)\n",
    "    vitesse=random.uniform(0.3, 0.5)\n",
    "    pyautogui.moveTo(a, b, vitesse)\n",
    "pyautogui.click()"
   ]
  },
  {
   "cell_type": "code",
   "execution_count": null,
   "id": "2cd08cc1",
   "metadata": {},
   "outputs": [],
   "source": []
  },
  {
   "cell_type": "code",
   "execution_count": null,
   "id": "a87a7929",
   "metadata": {},
   "outputs": [],
   "source": []
  },
  {
   "cell_type": "code",
   "execution_count": null,
   "id": "a97d051c",
   "metadata": {},
   "outputs": [],
   "source": []
  }
 ],
 "metadata": {
  "kernelspec": {
   "display_name": "Python 3 (ipykernel)",
   "language": "python",
   "name": "python3"
  },
  "language_info": {
   "codemirror_mode": {
    "name": "ipython",
    "version": 3
   },
   "file_extension": ".py",
   "mimetype": "text/x-python",
   "name": "python",
   "nbconvert_exporter": "python",
   "pygments_lexer": "ipython3",
   "version": "3.9.7"
  }
 },
 "nbformat": 4,
 "nbformat_minor": 5
}
